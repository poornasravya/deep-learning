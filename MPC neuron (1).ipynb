{
 "cells": [
  {
   "cell_type": "code",
   "execution_count": 1,
   "id": "4a8e76fa",
   "metadata": {},
   "outputs": [],
   "source": [
    "def mcp_neuron(x,func):\n",
    "    if any(x) !=0 and any(x)!=1:\n",
    "        return -1\n",
    "    s = sum(x)\n",
    "    if func=='AND':\n",
    "        if s==len(x):\n",
    "            return 1\n",
    "        else:\n",
    "            return 0\n",
    "    elif func == 'OR':\n",
    "        if s==0:\n",
    "            return 0\n",
    "        else:\n",
    "            return 1\n",
    "    else:\n",
    "        return None"
   ]
  },
  {
   "cell_type": "code",
   "execution_count": 2,
   "id": "927afb04",
   "metadata": {},
   "outputs": [
    {
     "data": {
      "text/plain": [
       "1"
      ]
     },
     "execution_count": 2,
     "metadata": {},
     "output_type": "execute_result"
    }
   ],
   "source": [
    "mcp_neuron([1,0,1,1,0],'OR')"
   ]
  },
  {
   "cell_type": "code",
   "execution_count": null,
   "id": "c57fb352",
   "metadata": {},
   "outputs": [],
   "source": []
  }
 ],
 "metadata": {
  "kernelspec": {
   "display_name": "Python 3 (ipykernel)",
   "language": "python",
   "name": "python3"
  },
  "language_info": {
   "codemirror_mode": {
    "name": "ipython",
    "version": 3
   },
   "file_extension": ".py",
   "mimetype": "text/x-python",
   "name": "python",
   "nbconvert_exporter": "python",
   "pygments_lexer": "ipython3",
   "version": "3.9.13"
  }
 },
 "nbformat": 4,
 "nbformat_minor": 5
}
